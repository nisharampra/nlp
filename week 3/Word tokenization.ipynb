{
 "cells": [
  {
   "cell_type": "code",
   "execution_count": 1,
   "id": "27b20823",
   "metadata": {},
   "outputs": [],
   "source": [
    "import nltk"
   ]
  },
  {
   "cell_type": "code",
   "execution_count": 3,
   "id": "ede6f70d",
   "metadata": {},
   "outputs": [],
   "source": [
    "text = '''Most of the time we can use white space.\n",
    "But what about fred@gmail.com or 13/01/2021?\n",
    "The students' attempts aren't working.\n",
    "Maybe it's the use of apostrophes? Or it might need a more up-to-date model.\n",
    "'''"
   ]
  },
  {
   "cell_type": "code",
   "execution_count": 4,
   "id": "5925767a",
   "metadata": {},
   "outputs": [],
   "source": [
    "\n",
    "# ✂️ Tokenize the text into sentences\n",
    "sents = nltk.sent_tokenize(text)"
   ]
  },
  {
   "cell_type": "code",
   "execution_count": 5,
   "id": "c6159d99",
   "metadata": {},
   "outputs": [
    {
     "name": "stdout",
     "output_type": "stream",
     "text": [
      "Most of the time we can use white space.\n",
      "----\n",
      "But what about fred@gmail.com or 13/01/2021?\n",
      "----\n",
      "The students' attempts aren't working.\n",
      "----\n",
      "Maybe it's the use of apostrophes?\n",
      "----\n",
      "Or it might need a more up-to-date model.\n"
     ]
    }
   ],
   "source": [
    "print('\\n----\\n'.join(sents))"
   ]
  },
  {
   "cell_type": "code",
   "execution_count": 8,
   "id": "668ad069",
   "metadata": {},
   "outputs": [
    {
     "data": {
      "text/plain": [
       "[['Most', 'of', 'the', 'time', 'we', 'can', 'use', 'white', 'space', '.'],\n",
       " ['But', 'what', 'about', 'fred', '@', 'gmail.com', 'or', '13/01/2021', '?'],\n",
       " ['The', 'students', \"'\", 'attempts', 'are', \"n't\", 'working', '.'],\n",
       " ['Maybe', 'it', \"'s\", 'the', 'use', 'of', 'apostrophes', '?'],\n",
       " ['Or', 'it', 'might', 'need', 'a', 'more', 'up-to-date', 'model', '.']]"
      ]
     },
     "execution_count": 8,
     "metadata": {},
     "output_type": "execute_result"
    }
   ],
   "source": [
    "[nltk.word_tokenize(s) for s in sents]\n"
   ]
  },
  {
   "cell_type": "markdown",
   "id": "42cdd920",
   "metadata": {},
   "source": [
    "What this code does, step-by-step:\n",
    "Defines a block of text:\n",
    "A multi-line string is assigned to the variable text.\n",
    "This text contains normal sentences plus tricky things like:\n",
    "\n",
    "an email address (fred@gmail.com)\n",
    "\n",
    "a date (13/01/2021)\n",
    "\n",
    "apostrophes (students', aren't, it's)\n",
    "\n",
    "hyphenated words (up-to-date)\n",
    "\n",
    "Splits the text into sentences:\n",
    "nltk.sent_tokenize(text) uses NLTK's Punkt sentence tokenizer to split the long text into individual sentences.\n",
    "It is smart enough to not break at dots inside emails (gmail.com) or dates (13/01/2021).\n",
    "\n",
    "Stores the sentences into sents:\n",
    "sents becomes a list of sentences extracted from the original text.\n",
    "\n",
    "🎯 In simple words:\n",
    "You give it a messy paragraph.\n",
    "\n",
    "It cuts it into clean full sentences.\n",
    "\n",
    "Even if the text has dots inside emails, numbers, or hyphenated words, it does not wrongly split it.\n",
    "\n"
   ]
  }
 ],
 "metadata": {
  "kernelspec": {
   "display_name": "Python 3",
   "language": "python",
   "name": "python3"
  },
  "language_info": {
   "codemirror_mode": {
    "name": "ipython",
    "version": 3
   },
   "file_extension": ".py",
   "mimetype": "text/x-python",
   "name": "python",
   "nbconvert_exporter": "python",
   "pygments_lexer": "ipython3",
   "version": "3.10.17"
  }
 },
 "nbformat": 4,
 "nbformat_minor": 5
}
