{
 "cells": [
  {
   "cell_type": "markdown",
   "id": "4961f581",
   "metadata": {},
   "source": [
    "A regular expression (often called regex) is a special pattern made of letters, numbers, and symbols that describes a search pattern for text.\n",
    "\n",
    "In very simple words:\n",
    "👉 Regex is a smart way to find or replace parts of text by matching patterns instead of exact words.\n",
    "\n"
   ]
  },
  {
   "cell_type": "markdown",
   "id": "3babe410",
   "metadata": {},
   "source": [
    "1.disjunction"
   ]
  },
  {
   "cell_type": "code",
   "execution_count": 3,
   "id": "56ffcb79",
   "metadata": {},
   "outputs": [
    {
     "name": "stdout",
     "output_type": "stream",
     "text": [
      "Most of X time we can use white space.\n",
      "But what about fred@gmail.com or 13/01/2021?\n",
      "The students' attempts aren't working.\n",
      "Maybe it's X use of apostrophes? Or it might need a more up-to-date model.\n",
      "\n"
     ]
    }
   ],
   "source": [
    "# 📚 Import the regular expression module\n",
    "import re\n",
    "\n",
    "# 📝 Define a sample text\n",
    "text = '''Most of the time we can use white space.\n",
    "But what about fred@gmail.com or 13/01/2021?\n",
    "The students' attempts aren't working.\n",
    "Maybe it's the use of apostrophes? Or it might need a more up-to-date model.\n",
    "'''\n",
    "\n",
    "# 🎯 Pattern to match lowercase 'the'\n",
    "pattern = r\"the\"\n",
    "\n",
    "# 🔄 Replace all matches of 'the' with 'X' and print the result\n",
    "print(re.sub(pattern, \"X\", text))\n",
    "\n",
    "# ---------------------------------------------\n",
    "# ✨ Modify pattern to also match 'The' (uppercase T)\n",
    "pattern = r\"[Tt]he\"\n",
    "\n",
    "# ---------------------------------------------\n",
    "# ✨ Modify pattern to match any digit (0 to 9)\n",
    "pattern = r\"[0-9]\"\n"
   ]
  },
  {
   "cell_type": "markdown",
   "id": "e6f5f3ee",
   "metadata": {},
   "source": [
    "2.negation"
   ]
  },
  {
   "cell_type": "code",
   "execution_count": 6,
   "id": "787fe21f",
   "metadata": {},
   "outputs": [
    {
     "name": "stdout",
     "output_type": "stream",
     "text": [
      "13012021\n"
     ]
    }
   ],
   "source": [
    "# 📚 Import the regular expression module\n",
    "import re\n",
    "\n",
    "# 📝 Define a sample text\n",
    "text = '''Most of the time we can use white space.\n",
    "But what about fred@gmail.com or 13/01/2021?\n",
    "The students' attempts aren't working.\n",
    "Maybe it's the use of apostrophes? Or it might need a more up-to-date model.\n",
    "'''\n",
    "\n",
    "# 🔎 Pattern to match anything that is NOT a digit\n",
    "pattern = r\"[^0-9]\"\n",
    "\n",
    "# 🧹 Replace anything that's NOT a digit with an empty string (\"\")\n",
    "print(re.sub(pattern, \"\", text))\n",
    "\n",
    "# 🔎 Pattern to match anything that is NOT a lowercase character\n",
    "# pattern = r\"[^a-z]\"\n"
   ]
  },
  {
   "cell_type": "markdown",
   "id": "b1a0693c",
   "metadata": {},
   "source": [
    "3.optionality"
   ]
  },
  {
   "cell_type": "code",
   "execution_count": 7,
   "id": "e05a2001",
   "metadata": {},
   "outputs": [],
   "source": [
    "text='''begin began begun beginning'''"
   ]
  },
  {
   "cell_type": "code",
   "execution_count": 8,
   "id": "408de09d",
   "metadata": {},
   "outputs": [],
   "source": [
    "paattern =r\"beg.n\""
   ]
  },
  {
   "cell_type": "code",
   "execution_count": 9,
   "id": "261314a2",
   "metadata": {},
   "outputs": [
    {
     "name": "stdout",
     "output_type": "stream",
     "text": [
      "X X X Xning\n"
     ]
    }
   ],
   "source": [
    "print(re.sub(paattern, \"X\", text))"
   ]
  },
  {
   "cell_type": "code",
   "execution_count": 10,
   "id": "f44e8d78",
   "metadata": {},
   "outputs": [
    {
     "name": "stdout",
     "output_type": "stream",
     "text": [
      "X can be spelled as X\n"
     ]
    }
   ],
   "source": [
    "text='''color can be spelled as colour'''\n",
    "pattern = r\"colou?r\"\n",
    "print(re.sub(pattern, \"X\", text))"
   ]
  },
  {
   "cell_type": "code",
   "execution_count": 16,
   "id": "ad647768",
   "metadata": {},
   "outputs": [],
   "source": [
    "# ✨ * is the Kleene star, meaning match 0 or more of the previous character\n",
    "pattern = r\"w.*\"\n"
   ]
  },
  {
   "cell_type": "code",
   "execution_count": 18,
   "id": "751126c3",
   "metadata": {},
   "outputs": [],
   "source": [
    "text = '''Most of the time we can use white space.\n",
    "But what about fred@gmail.com or 13/01/2021?\n",
    "The students' attempts aren't working.\n",
    "Maybe it's the use of apostrophes? Or it might need a more up-to-date model.\n",
    "'''"
   ]
  },
  {
   "cell_type": "code",
   "execution_count": 22,
   "id": "812a643f",
   "metadata": {},
   "outputs": [
    {
     "name": "stdout",
     "output_type": "stream",
     "text": [
      "Most of the time x\n",
      "But x\n",
      "The students' attempts aren't x\n",
      "Maybe it's the use of apostrophes? Or it might need a more up-to-date model.\n",
      "\n"
     ]
    }
   ],
   "source": [
    "# ✨ * is the Kleene star, meaning match 0 or more of the previous character\n",
    "pattern = r\"w.*\"\n",
    "\n",
    "# 📝 Define a sample text\n",
    "text = '''Most of the time we can use white space.\n",
    "But what about fred@gmail.com or 13/01/2021?\n",
    "The students' attempts aren't working.\n",
    "Maybe it's the use of apostrophes? Or it might need a more up-to-date model.\n",
    "'''\n",
    "\n",
    "# 🔄 Replace anything that matches the pattern with an empty string\n",
    "print(re.sub(pattern, \"x\", text))\n"
   ]
  },
  {
   "cell_type": "code",
   "execution_count": 23,
   "id": "f54cd1c7",
   "metadata": {},
   "outputs": [
    {
     "name": "stdout",
     "output_type": "stream",
     "text": [
      "foo   \n"
     ]
    }
   ],
   "source": [
    "# ✨ * is the Kleene star, meaning match 0 or more of the previous character\n",
    "pattern = r\"w.*\"\n",
    "\n",
    "# 📝 Define a sample text\n",
    "text = '''foo fooo fooooo foooooo'''\n",
    "pattern = r\"fooo+\"\n",
    "\n",
    "# 🔄 Replace anything that matches the pattern with an empty string\n",
    "print(re.sub(pattern, \"\", text))\n"
   ]
  },
  {
   "cell_type": "markdown",
   "id": "87c4b657",
   "metadata": {},
   "source": [
    "4.Aliasess"
   ]
  },
  {
   "cell_type": "code",
   "execution_count": 24,
   "id": "c6f9cdba",
   "metadata": {},
   "outputs": [
    {
     "name": "stdout",
     "output_type": "stream",
     "text": [
      "        .\n",
      "   @.  //?\n",
      " '  ' .\n",
      " '    ?       -- .\n",
      "\n",
      "Most of the time we can use white space.\n",
      "But what about fred@gmail.com or //?\n",
      "The students' attempts aren't working.\n",
      "Maybe it's the use of apostrophes? Or it might need a more up-to-date model.\n",
      "\n"
     ]
    }
   ],
   "source": [
    "# 📚 Import the regular expression module\n",
    "import re\n",
    "\n",
    "# 📝 Define a sample text\n",
    "text = '''Most of the time we can use white space.\n",
    "But what about fred@gmail.com or 13/01/2021?\n",
    "The students' attempts aren't working.\n",
    "Maybe it's the use of apostrophes? Or it might need a more up-to-date model.\n",
    "'''\n",
    "\n",
    "# 🔎 Pattern to match all word characters (letters, digits, underscores)\n",
    "pattern = r\"\\w\"\n",
    "\n",
    "# 🧹 Replace all word characters with an empty string (\"\")\n",
    "print(re.sub(pattern, \"\", text))\n",
    "\n",
    "# ---------------------------------------------\n",
    "\n",
    "# 🔎 Pattern to match all digit characters (0–9)\n",
    "pattern = r\"\\d\"\n",
    "\n",
    "# 🧹 Replace all digits with an empty string (\"\")\n",
    "print(re.sub(pattern, \"\", text))\n"
   ]
  },
  {
   "cell_type": "markdown",
   "id": "ac120008",
   "metadata": {},
   "source": [
    "5.anchors"
   ]
  },
  {
   "cell_type": "code",
   "execution_count": 25,
   "id": "d3292f66",
   "metadata": {},
   "outputs": [
    {
     "name": "stdout",
     "output_type": "stream",
     "text": [
      "        .\n",
      "   @.  //?\n",
      " '  ' .\n",
      " '    ?       -- .\n",
      "\n",
      " of the time we can use white space.\n",
      "But what about fred@gmail.com or 13/01/2021?\n",
      "The students' attempts aren't working.\n",
      "Maybe it's the use of apostrophes? Or it might need a more up-to-date model.\n",
      "\n",
      " of the time we can use white space.\n",
      " what about fred@gmail.com or 13/01/2021?\n",
      " students' attempts aren't working.\n",
      " it's the use of apostrophes? Or it might need a more up-to-date model.\n",
      "\n",
      "Most of the time we can use white space.\n",
      "But what about fred@gmail.com or 13/01/2021?\n",
      "The students' attempts aren't working.\n",
      "Maybe it's the use of apostrophes? Or it might need a more up-to-date model\n",
      "Most of the time we can use white space\n",
      "But what about fred@gmail.com or 13/01/2021\n",
      "The students' attempts aren't working\n",
      "Maybe it's the use of apostrophes? Or it might need a more up-to-date model\n"
     ]
    }
   ],
   "source": [
    "# 📚 Import the regular expression module\n",
    "import re\n",
    "\n",
    "# 📝 Define a sample text (if not already defined)\n",
    "text = '''Most of the time we can use white space.\n",
    "But what about fred@gmail.com or 13/01/2021?\n",
    "The students' attempts aren't working.\n",
    "Maybe it's the use of apostrophes? Or it might need a more up-to-date model.\n",
    "'''\n",
    "\n",
    "# -------------------------------\n",
    "# ✨ 1. Delete ALL words\n",
    "pattern = r'\\w+'\n",
    "print(re.sub(pattern, \"\", text))\n",
    "\n",
    "# -------------------------------\n",
    "# ✨ 2. Delete ONLY words at the start of the string\n",
    "pattern = r'^\\w+'\n",
    "print(re.sub(pattern, \"\", text))\n",
    "\n",
    "# -------------------------------\n",
    "# ✨ 3. Switch ON multiline mode to delete words at the start of EACH line\n",
    "print(re.sub(r'^\\w+', \"\", text, flags=re.MULTILINE))\n",
    "\n",
    "# -------------------------------\n",
    "# ✨ 4. Use $ to anchor the match at the END of a string\n",
    "pattern = r'\\W$'\n",
    "print(re.sub(pattern, \"\", text))\n",
    "\n",
    "# -------------------------------\n",
    "# ✨ 5. Switch ON multiline mode to delete non-words at the END of EACH line\n",
    "print(re.sub(r'\\W$', \"\", text, flags=re.MULTILINE))\n"
   ]
  }
 ],
 "metadata": {
  "kernelspec": {
   "display_name": "Python 3",
   "language": "python",
   "name": "python3"
  },
  "language_info": {
   "codemirror_mode": {
    "name": "ipython",
    "version": 3
   },
   "file_extension": ".py",
   "mimetype": "text/x-python",
   "name": "python",
   "nbconvert_exporter": "python",
   "pygments_lexer": "ipython3",
   "version": "3.10.17"
  }
 },
 "nbformat": 4,
 "nbformat_minor": 5
}
