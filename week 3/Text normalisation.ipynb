{
 "cells": [
  {
   "cell_type": "code",
   "execution_count": 1,
   "id": "4fc39a30",
   "metadata": {},
   "outputs": [],
   "source": [
    "import nltk"
   ]
  },
  {
   "cell_type": "code",
   "execution_count": 2,
   "id": "54695819",
   "metadata": {},
   "outputs": [
    {
     "name": "stderr",
     "output_type": "stream",
     "text": [
      "[nltk_data] Downloading package wordnet to\n",
      "[nltk_data]     /Users/nisharamprasath/nltk_data...\n",
      "[nltk_data]   Package wordnet is already up-to-date!\n"
     ]
    },
    {
     "data": {
      "text/plain": [
       "True"
      ]
     },
     "execution_count": 2,
     "metadata": {},
     "output_type": "execute_result"
    }
   ],
   "source": [
    "from nltk.stem import WordNetLemmatizer, PorterStemmer\n",
    "from nltk import wordnet\n",
    "nltk.download('wordnet')"
   ]
  },
  {
   "cell_type": "code",
   "execution_count": 3,
   "id": "1f83c2b7",
   "metadata": {},
   "outputs": [],
   "source": [
    "stemmer=PorterStemmer()\n",
    "wnl=WordNetLemmatizer()"
   ]
  },
  {
   "cell_type": "code",
   "execution_count": 4,
   "id": "d7efe613",
   "metadata": {},
   "outputs": [],
   "source": [
    "word='meeting'"
   ]
  },
  {
   "cell_type": "code",
   "execution_count": 5,
   "id": "f27521de",
   "metadata": {},
   "outputs": [
    {
     "data": {
      "text/plain": [
       "('meet', 'meeting')"
      ]
     },
     "execution_count": 5,
     "metadata": {},
     "output_type": "execute_result"
    }
   ],
   "source": [
    "stemmer.stem(word), wnl.lemmatize(word)"
   ]
  },
  {
   "cell_type": "code",
   "execution_count": 7,
   "id": "2f8d1b4b",
   "metadata": {},
   "outputs": [
    {
     "data": {
      "text/plain": [
       "['dog', 'church', 'aardwolves', 'abaci']"
      ]
     },
     "execution_count": 7,
     "metadata": {},
     "output_type": "execute_result"
    }
   ],
   "source": [
    "# 📝 Define a list of words (sentence-like)\n",
    "words = ['I', 'am', 'going', 'to', 'a', 'meeting', 'about', 'data', 'science']\n",
    "\n",
    "# 📝 Define another list of plural nouns\n",
    "words = ['dogs', 'churches', 'aardwolves', 'abaci']\n",
    "\n",
    "# 🔨 Apply stemming to each word in the list\n",
    "[stemmer.stem(word) for word in words]\n",
    "\n",
    "# 🧹 Apply lemmatization to each word, specifying 'v' (verb) as the part of speech\n",
    "[wnl.lemmatize(word, pos='v') for word in words]\n"
   ]
  },
  {
   "cell_type": "code",
   "execution_count": 8,
   "id": "8711edbd",
   "metadata": {},
   "outputs": [
    {
     "data": {
      "text/plain": [
       "['dog', 'church', 'aardwolf', 'abacus']"
      ]
     },
     "execution_count": 8,
     "metadata": {},
     "output_type": "execute_result"
    }
   ],
   "source": [
    "[wnl.lemmatize(word, pos='n') for word in words]\n"
   ]
  },
  {
   "cell_type": "markdown",
   "id": "427f7f81",
   "metadata": {},
   "source": [
    "his Python code demonstrates how to perform stemming and lemmatization using the Natural Language Toolkit (NLTK) library. First, it imports the necessary classes: PorterStemmer and WordNetLemmatizer. The PorterStemmer is a simple tool that chops off word endings to reduce words to their root form, while the WordNetLemmatizer transforms words properly to their dictionary base form, known as a lemma. The code initializes these two tools and defines a list of plural words: ['dogs', 'churches', 'aardwolves', 'abaci'].\n",
    "\n",
    "Using a list comprehension, it applies stemming by calling stemmer.stem(word) for each word in the list. Stemming is mechanical and focuses only on chopping off common endings, so the result is not always a real English word. For example, \"dogs\" becomes \"dog,\" \"churches\" becomes \"church,\" but \"aardwolves\" becomes \"aardwolv,\" which is not an actual word. Next, the code applies lemmatization by calling wnl.lemmatize(word, pos='v'), specifying that each word should be treated as a verb (pos='v'). However, because the original words are plural nouns, and not verbs, the lemmatizer does not effectively singularize them in this case. As a result, lemmatization here mostly leaves the words unchanged.\n",
    "\n",
    "In summary, stemming quickly reduces words by chopping off endings, but sometimes produces non-standard forms, while lemmatization intelligently reduces words to their proper dictionary form, depending on the part of speech given. If the correct part of speech (pos='n' for nouns) were used, the lemmatizer would correctly singularize the plural nouns into forms like \"dog,\" \"church,\" \"aardwolf,\" and \"abacus.\"\n",
    "\n"
   ]
  }
 ],
 "metadata": {
  "kernelspec": {
   "display_name": "Python 3",
   "language": "python",
   "name": "python3"
  },
  "language_info": {
   "codemirror_mode": {
    "name": "ipython",
    "version": 3
   },
   "file_extension": ".py",
   "mimetype": "text/x-python",
   "name": "python",
   "nbconvert_exporter": "python",
   "pygments_lexer": "ipython3",
   "version": "3.10.17"
  }
 },
 "nbformat": 4,
 "nbformat_minor": 5
}
