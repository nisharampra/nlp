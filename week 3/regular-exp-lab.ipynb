{
 "cells": [
  {
   "cell_type": "code",
   "execution_count": 5,
   "id": "2e6d8c49",
   "metadata": {},
   "outputs": [
    {
     "name": "stdout",
     "output_type": "stream",
     "text": [
      "URLs found: ['www.google.com']\n",
      "Emails found: []\n",
      "Dates found: ['23/01/2021', '23-Jan-2021', '2021/01/23', '23-01-2021']\n"
     ]
    }
   ],
   "source": [
    "import nltk\n",
    "import re\n",
    "from nltk.tokenize import word_tokenize\n",
    "\n",
    "# 📝 Sample text\n",
    "text = \"\"\"\n",
    "Visit our site at http://www.uxlabs.co.uk or https://uxlabs.co.uk.\n",
    "You can also check www.google.com or contact us at mailto:someone@google.com.\n",
    "\n",
    "Send an email to fred@gmail.com, but not to bob @ aol.com or steve or mary@aolcom!\n",
    "\n",
    "Important dates: 23/01/2021, 23-Jan-2021, 2021/01/23, and 23-01-2021.\n",
    "\"\"\"\n",
    "\n",
    "# ✂️ Step 1: Tokenize the text into words using NLTK\n",
    "tokens = word_tokenize(text)\n",
    "\n",
    "# 🔍 Step 2: Define regular expressions\n",
    "\n",
    "# URL pattern\n",
    "url_pattern = re.compile(r\"(http[s]?://\\S+|www\\.\\S+|mailto:\\S+@\\S+)\", re.I)\n",
    "\n",
    "# Email pattern\n",
    "email_pattern = re.compile(r\"\\b[A-Za-z0-9._%+-]+@[A-Za-z0-9.-]+\\.[A-Za-z]{2,}\\b\")\n",
    "\n",
    "# Date pattern\n",
    "date_pattern = re.compile(r\"(\\d{2}/\\d{2}/\\d{4}|\\d{2}-\\w{3}-\\d{4}|\\d{4}/\\d{2}/\\d{2}|\\d{2}-\\d{2}-\\d{4})\")\n",
    "\n",
    "# 🕵️‍♂️ Step 3: Search for matches from the tokens\n",
    "urls = [token for token in tokens if url_pattern.match(token)]\n",
    "emails = [token for token in tokens if email_pattern.match(token)]\n",
    "dates = [token for token in tokens if date_pattern.match(token)]\n",
    "\n",
    "# 🎯 Step 4: Print Results\n",
    "print(\"URLs found:\", urls)\n",
    "print(\"Emails found:\", emails)\n",
    "print(\"Dates found:\", dates)\n"
   ]
  }
 ],
 "metadata": {
  "kernelspec": {
   "display_name": "Python 3",
   "language": "python",
   "name": "python3"
  },
  "language_info": {
   "codemirror_mode": {
    "name": "ipython",
    "version": 3
   },
   "file_extension": ".py",
   "mimetype": "text/x-python",
   "name": "python",
   "nbconvert_exporter": "python",
   "pygments_lexer": "ipython3",
   "version": "3.10.17"
  }
 },
 "nbformat": 4,
 "nbformat_minor": 5
}
