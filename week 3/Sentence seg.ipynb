{
 "cells": [
  {
   "cell_type": "code",
   "execution_count": 1,
   "id": "8211d6a2",
   "metadata": {},
   "outputs": [],
   "source": [
    "import nltk"
   ]
  },
  {
   "cell_type": "code",
   "execution_count": null,
   "id": "0f8e23f5",
   "metadata": {},
   "outputs": [
    {
     "name": "stderr",
     "output_type": "stream",
     "text": [
      "[nltk_data] Downloading package punkt to\n",
      "[nltk_data]     /Users/nisharamprasath/nltk_data...\n",
      "[nltk_data]   Package punkt is already up-to-date!\n"
     ]
    },
    {
     "data": {
      "text/plain": [
       "True"
      ]
     },
     "execution_count": 2,
     "metadata": {},
     "output_type": "execute_result"
    }
   ],
   "source": [
    "#  Download the Punkt tokenizer models (needed for sentence splitting)\n",
    "nltk.download('punkt')"
   ]
  },
  {
   "cell_type": "code",
   "execution_count": 3,
   "id": "a52e24cd",
   "metadata": {},
   "outputs": [],
   "source": [
    "text = '''Punctuation denotes the end of a sentence!\n",
    "“But not always!”, said Fred... (who is a professor).\n",
    "Some sentences could break over multiple lines\n",
    "and begin with a lower case letter.\n",
    "a1 could be a variable name.\n",
    "'''"
   ]
  },
  {
   "cell_type": "code",
   "execution_count": 4,
   "id": "2fae1159",
   "metadata": {},
   "outputs": [
    {
     "data": {
      "text/plain": [
       "'Punctuation denotes the end of a sentence!\\n“But not always!”, said Fred... (who is a professor).\\nSome sentences could break over multiple lines\\nand begin with a lower case letter.\\na1 could be a variable name.\\n'"
      ]
     },
     "execution_count": 4,
     "metadata": {},
     "output_type": "execute_result"
    }
   ],
   "source": [
    "text"
   ]
  },
  {
   "cell_type": "code",
   "execution_count": null,
   "id": "eab96540",
   "metadata": {},
   "outputs": [
    {
     "name": "stdout",
     "output_type": "stream",
     "text": [
      "['Punctuation denotes the end of a sentence!', '“But not always!”, said Fred... (who is a professor).', 'Some sentences could break over multiple lines\\nand begin with a lower case letter.', 'a1 could be a variable name.']\n"
     ]
    }
   ],
   "source": [
    "#  Tokenize the text into a list of sentences using NLTK's sentence tokenizer\n",
    "\n",
    "sents = nltk.sent_tokenize(text)\n",
    "print(sents)"
   ]
  },
  {
   "cell_type": "code",
   "execution_count": null,
   "id": "e2ae7a93",
   "metadata": {},
   "outputs": [
    {
     "data": {
      "text/plain": [
       "'“But not always!”, said Fred... (who is a professor).'"
      ]
     },
     "execution_count": 6,
     "metadata": {},
     "output_type": "execute_result"
    }
   ],
   "source": [
    "# Output: List of cleanly separated sentences, handling quotes and ellipsis correctly\n",
    "\n",
    "sents[1]"
   ]
  },
  {
   "cell_type": "code",
   "execution_count": 7,
   "id": "853a0df5",
   "metadata": {},
   "outputs": [
    {
     "data": {
      "text/plain": [
       "4"
      ]
     },
     "execution_count": 7,
     "metadata": {},
     "output_type": "execute_result"
    }
   ],
   "source": [
    "len(sents)"
   ]
  },
  {
   "cell_type": "code",
   "execution_count": 8,
   "id": "240d3d57",
   "metadata": {},
   "outputs": [
    {
     "name": "stdout",
     "output_type": "stream",
     "text": [
      "Punctuation denotes the end of a sentence!\n",
      "“But not always!”, said Fred... (who is a professor).\n",
      "Some sentences could break over multiple lines\n",
      "and begin with a lower case letter.\n",
      "a1 could be a variable name.\n"
     ]
    }
   ],
   "source": [
    "for s in sents:\n",
    "    print(s)\n"
   ]
  },
  {
   "cell_type": "code",
   "execution_count": 9,
   "id": "f8f90df3",
   "metadata": {},
   "outputs": [
    {
     "name": "stdout",
     "output_type": "stream",
     "text": [
      "Punctuation denotes the end of a sentence!\n",
      "----\n",
      "“But not always!”, said Fred... (who is a professor).\n",
      "----\n",
      "Some sentences could break over multiple lines\n",
      "and begin with a lower case letter.\n",
      "----\n",
      "a1 could be a variable name.\n"
     ]
    }
   ],
   "source": [
    "print('\\n----\\n'.join(sents))"
   ]
  },
  {
   "cell_type": "code",
   "execution_count": null,
   "id": "23021ee2",
   "metadata": {},
   "outputs": [],
   "source": [
    "print('')"
   ]
  }
 ],
 "metadata": {
  "kernelspec": {
   "display_name": "Python 3",
   "language": "python",
   "name": "python3"
  },
  "language_info": {
   "codemirror_mode": {
    "name": "ipython",
    "version": 3
   },
   "file_extension": ".py",
   "mimetype": "text/x-python",
   "name": "python",
   "nbconvert_exporter": "python",
   "pygments_lexer": "ipython3",
   "version": "3.10.17"
  }
 },
 "nbformat": 4,
 "nbformat_minor": 5
}
